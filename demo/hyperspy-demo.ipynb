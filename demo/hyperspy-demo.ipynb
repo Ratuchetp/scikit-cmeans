{
 "cells": [
  {
   "cell_type": "code",
   "execution_count": null,
   "metadata": {
    "collapsed": false
   },
   "outputs": [],
   "source": [
    "%matplotlib inline"
   ]
  },
  {
   "cell_type": "markdown",
   "metadata": {},
   "source": [
    "# Load Data\n",
    "\n",
    "The dataset is a small representative SPED dataset with a small number of components."
   ]
  },
  {
   "cell_type": "code",
   "execution_count": null,
   "metadata": {
    "collapsed": false
   },
   "outputs": [],
   "source": [
    "import hyperspy.api as hs\n",
    "data = hs.load('./hyperspy-demo-data.hspy')\n",
    "data.change_dtype('float64')"
   ]
  },
  {
   "cell_type": "markdown",
   "metadata": {},
   "source": [
    "# Decomposition\n",
    "\n",
    "Decompose data using PCA (avoids the first dimension representing the mean, which improves clustering).\n",
    "\n",
    "Then, check the loadings to see if clusters actually exist in the data. Overly complex datasets won't work well."
   ]
  },
  {
   "cell_type": "code",
   "execution_count": null,
   "metadata": {
    "collapsed": false
   },
   "outputs": [],
   "source": [
    "data.decomposition(algorithm='sklearn_pca', output_dimension=2)"
   ]
  },
  {
   "cell_type": "code",
   "execution_count": null,
   "metadata": {
    "collapsed": true
   },
   "outputs": [],
   "source": [
    "loadings = data.learning_results.loadings"
   ]
  },
  {
   "cell_type": "code",
   "execution_count": null,
   "metadata": {
    "collapsed": false
   },
   "outputs": [],
   "source": [
    "import matplotlib.pyplot as plt\n",
    "plt.scatter(loadings[:, 0], loadings[:, 1], s=1, c='k')\n",
    "plt.axis('equal')"
   ]
  },
  {
   "cell_type": "markdown",
   "metadata": {},
   "source": [
    "# Clustering\n",
    "\n",
    "Clustering using skcmeans as the engine. The `hyperspy` submodule makes it work similar to `data.decomposition` above.\n",
    "\n",
    "`alg` stores the algorithm object used for clustering. `skcmeans` algorithms come with limited plotting utilities."
   ]
  },
  {
   "cell_type": "markdown",
   "metadata": {},
   "source": [
    "## Probabilistic algorithm\n",
    "\n",
    "The probabilistic algorithm is default. It produces approximately spherical clusters."
   ]
  },
  {
   "cell_type": "code",
   "execution_count": null,
   "metadata": {
    "collapsed": false
   },
   "outputs": [],
   "source": [
    "from skcmeans.hyperspy import cluster, get_cluster_centers, get_cluster_memberships\n",
    "alg = cluster(data, n_clusters=3, use_decomposition_results=True)"
   ]
  },
  {
   "cell_type": "code",
   "execution_count": null,
   "metadata": {
    "collapsed": false
   },
   "outputs": [],
   "source": [
    "alg.plot(loadings)"
   ]
  },
  {
   "cell_type": "code",
   "execution_count": null,
   "metadata": {
    "collapsed": false
   },
   "outputs": [],
   "source": [
    "centers = get_cluster_centers(data) + data.mean()  # Get cluster centers as a hyperspy signal\n",
    "# Because we used PCA, we must add the mean value to the centers found\n",
    "\n",
    "hs.plot.plot_images(centers, tight_layout=True)  "
   ]
  },
  {
   "cell_type": "code",
   "execution_count": null,
   "metadata": {
    "collapsed": false
   },
   "outputs": [],
   "source": [
    "memberships = get_cluster_memberships(data)  # Get cluster memberships as a hyperspy signal\n",
    "hs.plot.plot_images(memberships, tight_layout=True)"
   ]
  },
  {
   "cell_type": "markdown",
   "metadata": {},
   "source": [
    "## Gustafson-Kessel variation\n",
    "\n",
    "Including the `gustafson_kessel` flag allows the clusters to adopt elliptical shapes. This will usually (though not always) improve results, but can take much longer on large datasets."
   ]
  },
  {
   "cell_type": "code",
   "execution_count": null,
   "metadata": {
    "collapsed": false,
    "scrolled": true
   },
   "outputs": [],
   "source": [
    "alg = cluster(data, n_clusters=3, use_decomposition_results=True, gustafson_kessel=True)"
   ]
  },
  {
   "cell_type": "code",
   "execution_count": null,
   "metadata": {
    "collapsed": false
   },
   "outputs": [],
   "source": [
    "ax = plt.figure().add_subplot(111)\n",
    "alg.plot(loadings, ax=ax)"
   ]
  },
  {
   "cell_type": "code",
   "execution_count": null,
   "metadata": {
    "collapsed": false
   },
   "outputs": [],
   "source": [
    "centers = get_cluster_centers(data)\n",
    "hs.plot.plot_images(centers + data.mean(), tight_layout=True, colorbar=None)"
   ]
  },
  {
   "cell_type": "code",
   "execution_count": null,
   "metadata": {
    "collapsed": false
   },
   "outputs": [],
   "source": [
    "memberships = get_cluster_memberships(data)\n",
    "hs.plot.plot_images(memberships, tight_layout=True, colorbar='single')"
   ]
  },
  {
   "cell_type": "markdown",
   "metadata": {},
   "source": [
    "## Without decomposition\n",
    "\n",
    "For some signals, we don't want to use the decomposition loadings for clustering. This is unusual in SPED, but to prove you can do it:"
   ]
  },
  {
   "cell_type": "code",
   "execution_count": null,
   "metadata": {
    "collapsed": false
   },
   "outputs": [],
   "source": [
    "alg = cluster(data, n_clusters=3, use_decomposition_results=False)"
   ]
  },
  {
   "cell_type": "code",
   "execution_count": null,
   "metadata": {
    "collapsed": false
   },
   "outputs": [],
   "source": [
    "centers = get_cluster_centers(data)\n",
    "hs.plot.plot_images(centers + data.mean(), tight_layout=True, colorbar=None)"
   ]
  },
  {
   "cell_type": "code",
   "execution_count": null,
   "metadata": {
    "collapsed": false
   },
   "outputs": [],
   "source": [
    "memberships = get_cluster_memberships(data)\n",
    "hs.plot.plot_images(memberships, tight_layout=True, colorbar='single')"
   ]
  },
  {
   "cell_type": "code",
   "execution_count": null,
   "metadata": {
    "collapsed": true
   },
   "outputs": [],
   "source": []
  }
 ],
 "metadata": {
  "kernelspec": {
   "display_name": "Python 3",
   "language": "python",
   "name": "python3"
  },
  "language_info": {
   "codemirror_mode": {
    "name": "ipython",
    "version": 3
   },
   "file_extension": ".py",
   "mimetype": "text/x-python",
   "name": "python",
   "nbconvert_exporter": "python",
   "pygments_lexer": "ipython3",
   "version": "3.6.0"
  }
 },
 "nbformat": 4,
 "nbformat_minor": 2
}
